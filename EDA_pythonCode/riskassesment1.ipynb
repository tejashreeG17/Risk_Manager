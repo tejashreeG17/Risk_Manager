import csv
import random

# Sample data for generating mock records
company_names = ["ABC Inc.", "XYZ Corporation", "LMN Enterprises", "EFG Co.", "PQR Limited"]
industries = ["Finance", "Technology", "Healthcare", "Manufacturing", "Retail"]
risk_types = ["Financial Risk", "Operational Risk", "Compliance Risk", "Strategic Risk", "Reputational Risk"]
risk_ratings = ["Low", "Medium", "High"]
mitigation_strategies = ["Risk Transfer", "Risk Avoidance", "Risk Reduction", "Risk Acceptance"]

# Function to generate a mock record
def generate_record():
    company = random.choice(company_names)
    industry = random.choice(industries)
    risk_type = random.choice(risk_types)
    risk_rating = random.choice(risk_ratings)
    mitigation_strategy = random.choice(mitigation_strategies)
    return {
        "Company": company,
        "Industry": industry,
        "Risk Type": risk_type,
        "Risk Rating": risk_rating,
        "Mitigation Strategy": mitigation_strategy
    }

# Generate 20 mock records
records = [generate_record() for _ in range(20)]

# Write the records to a CSV file
with open("risk_records.csv", "w", newline="") as csvfile:
    fieldnames = ["Company", "Industry", "Risk Type", "Risk Rating", "Mitigation Strategy"]
    writer = csv.DictWriter(csvfile, fieldnames=fieldnames)
    
    writer.writeheader()
    for record in records:
        writer.writerow(record)
